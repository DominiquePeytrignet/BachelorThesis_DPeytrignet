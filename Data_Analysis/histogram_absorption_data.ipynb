{
 "cells": [
  {
   "attachments": {},
   "cell_type": "markdown",
   "metadata": {},
   "source": [
    "# Create histograms with the volume data, that show the distribuition\n",
    "\n"
   ]
  },
  {
   "attachments": {},
   "cell_type": "markdown",
   "metadata": {},
   "source": [
    "### Import dependencies"
   ]
  },
  {
   "cell_type": "code",
   "execution_count": 2,
   "metadata": {},
   "outputs": [],
   "source": [
    "import numpy as np\n",
    "from scipy.stats import norm\n",
    "import matplotlib.pyplot as plt\n",
    "import pandas as pd\n"
   ]
  },
  {
   "cell_type": "code",
   "execution_count": 6,
   "metadata": {},
   "outputs": [
    {
     "name": "stdout",
     "output_type": "stream",
     "text": [
      "Collecting openpyxl\n",
      "  Downloading openpyxl-3.1.2-py2.py3-none-any.whl (249 kB)\n",
      "     ------------------------------------ 250.0/250.0 kB 450.6 kB/s eta 0:00:00\n",
      "Collecting et-xmlfile (from openpyxl)\n",
      "  Downloading et_xmlfile-1.1.0-py3-none-any.whl (4.7 kB)\n",
      "Installing collected packages: et-xmlfile, openpyxl\n",
      "Successfully installed et-xmlfile-1.1.0 openpyxl-3.1.2\n"
     ]
    },
    {
     "name": "stderr",
     "output_type": "stream",
     "text": [
      "\n",
      "[notice] A new release of pip is available: 23.1 -> 23.1.2\n",
      "[notice] To update, run: python.exe -m pip install --upgrade pip\n"
     ]
    }
   ],
   "source": [
    "# !pip install openpyxl "
   ]
  },
  {
   "attachments": {},
   "cell_type": "markdown",
   "metadata": {},
   "source": [
    "### Read excel file, Absorption_Analysis"
   ]
  },
  {
   "cell_type": "code",
   "execution_count": 3,
   "metadata": {},
   "outputs": [
    {
     "data": {
      "text/html": [
       "<div>\n",
       "<style scoped>\n",
       "    .dataframe tbody tr th:only-of-type {\n",
       "        vertical-align: middle;\n",
       "    }\n",
       "\n",
       "    .dataframe tbody tr th {\n",
       "        vertical-align: top;\n",
       "    }\n",
       "\n",
       "    .dataframe thead th {\n",
       "        text-align: right;\n",
       "    }\n",
       "</style>\n",
       "<table border=\"1\" class=\"dataframe\">\n",
       "  <thead>\n",
       "    <tr style=\"text-align: right;\">\n",
       "      <th></th>\n",
       "      <th>framenum</th>\n",
       "      <th>color</th>\n",
       "      <th>pos_x</th>\n",
       "      <th>pos_y</th>\n",
       "      <th>CV</th>\n",
       "      <th>Normal Distribution</th>\n",
       "      <th>area</th>\n",
       "      <th>x_length</th>\n",
       "      <th>y_length</th>\n",
       "      <th>meanPXbgFromfg</th>\n",
       "      <th>meanPXfg</th>\n",
       "    </tr>\n",
       "  </thead>\n",
       "  <tbody>\n",
       "    <tr>\n",
       "      <th>0</th>\n",
       "      <td>4389</td>\n",
       "      <td>red</td>\n",
       "      <td>129</td>\n",
       "      <td>206</td>\n",
       "      <td>478.612250</td>\n",
       "      <td>0.000010</td>\n",
       "      <td>3013.0</td>\n",
       "      <td>73</td>\n",
       "      <td>53</td>\n",
       "      <td>0</td>\n",
       "      <td>191.305538</td>\n",
       "    </tr>\n",
       "    <tr>\n",
       "      <th>1</th>\n",
       "      <td>6166</td>\n",
       "      <td>red</td>\n",
       "      <td>115</td>\n",
       "      <td>812</td>\n",
       "      <td>494.388525</td>\n",
       "      <td>0.000015</td>\n",
       "      <td>3106.5</td>\n",
       "      <td>82</td>\n",
       "      <td>48</td>\n",
       "      <td>0</td>\n",
       "      <td>195.017155</td>\n",
       "    </tr>\n",
       "    <tr>\n",
       "      <th>2</th>\n",
       "      <td>4308</td>\n",
       "      <td>red</td>\n",
       "      <td>92</td>\n",
       "      <td>568</td>\n",
       "      <td>499.869536</td>\n",
       "      <td>0.000018</td>\n",
       "      <td>3148.5</td>\n",
       "      <td>79</td>\n",
       "      <td>51</td>\n",
       "      <td>0</td>\n",
       "      <td>189.679199</td>\n",
       "    </tr>\n",
       "    <tr>\n",
       "      <th>3</th>\n",
       "      <td>6575</td>\n",
       "      <td>red</td>\n",
       "      <td>107</td>\n",
       "      <td>192</td>\n",
       "      <td>507.389792</td>\n",
       "      <td>0.000022</td>\n",
       "      <td>3192.0</td>\n",
       "      <td>75</td>\n",
       "      <td>54</td>\n",
       "      <td>0</td>\n",
       "      <td>198.644769</td>\n",
       "    </tr>\n",
       "    <tr>\n",
       "      <th>4</th>\n",
       "      <td>5548</td>\n",
       "      <td>red</td>\n",
       "      <td>108</td>\n",
       "      <td>245</td>\n",
       "      <td>516.747092</td>\n",
       "      <td>0.000028</td>\n",
       "      <td>3255.0</td>\n",
       "      <td>79</td>\n",
       "      <td>53</td>\n",
       "      <td>0</td>\n",
       "      <td>192.003579</td>\n",
       "    </tr>\n",
       "  </tbody>\n",
       "</table>\n",
       "</div>"
      ],
      "text/plain": [
       "   framenum color  pos_x  pos_y          CV  Normal Distribution    area  \\\n",
       "0      4389   red    129    206  478.612250             0.000010  3013.0   \n",
       "1      6166   red    115    812  494.388525             0.000015  3106.5   \n",
       "2      4308   red     92    568  499.869536             0.000018  3148.5   \n",
       "3      6575   red    107    192  507.389792             0.000022  3192.0   \n",
       "4      5548   red    108    245  516.747092             0.000028  3255.0   \n",
       "\n",
       "   x_length  y_length  meanPXbgFromfg    meanPXfg  \n",
       "0        73        53               0  191.305538  \n",
       "1        82        48               0  195.017155  \n",
       "2        79        51               0  189.679199  \n",
       "3        75        54               0  198.644769  \n",
       "4        79        53               0  192.003579  "
      ]
     },
     "execution_count": 3,
     "metadata": {},
     "output_type": "execute_result"
    }
   ],
   "source": [
    "db = pd.read_excel(\"Absorption_Analysis_Cleaned.xlsx\") # uncomment code in cell above if pandas can't read the file \n",
    "db.head()"
   ]
  },
  {
   "attachments": {},
   "cell_type": "markdown",
   "metadata": {},
   "source": [
    "### Extract cell volumes from database"
   ]
  },
  {
   "cell_type": "code",
   "execution_count": 4,
   "metadata": {},
   "outputs": [
    {
     "data": {
      "text/plain": [
       "0    478.612250\n",
       "1    494.388525\n",
       "2    499.869536\n",
       "3    507.389792\n",
       "4    516.747092\n",
       "Name: CV, dtype: float64"
      ]
     },
     "execution_count": 4,
     "metadata": {},
     "output_type": "execute_result"
    }
   ],
   "source": [
    "cv = db[\"CV\"]\n",
    "cv.head()"
   ]
  },
  {
   "attachments": {},
   "cell_type": "markdown",
   "metadata": {},
   "source": [
    "### Fit a normal distribution to the data\n",
    " Adapted from @author: Prof. Dr. Cédric Bessire"
   ]
  },
  {
   "cell_type": "code",
   "execution_count": 5,
   "metadata": {},
   "outputs": [
    {
     "name": "stdout",
     "output_type": "stream",
     "text": [
      "<class 'pandas.core.series.Series'>\n",
      "<class 'numpy.ndarray'>\n"
     ]
    }
   ],
   "source": [
    "print(type(cv))\n",
    "cv = cv.to_numpy()\n",
    "print(type(cv))\n",
    "mean, std = norm.fit(cv)"
   ]
  },
  {
   "cell_type": "code",
   "execution_count": 6,
   "metadata": {},
   "outputs": [
    {
     "data": {
      "image/png": "[encoded data removed]",
      "text/plain": [
       "<Figure size 432x288 with 1 Axes>"
      ]
     },
     "metadata": {
      "needs_background": "light"
     },
     "output_type": "display_data"
    }
   ],
   "source": [
    "plt.hist(cv, bins=25, density=True, color='#0504aa', alpha=0.7, rwidth=0.85)\n",
    "xmin, xmax = plt.xlim()\n",
    "x = np.linspace(xmin, xmax, 100)\n",
    "p = norm.pdf(x, mean, std)\n",
    "plt.plot(x, p, 'k', linewidth=2)\n",
    "title = \"Results mean = %.2f,  std = %.2f\" % (mean, std)\n",
    "plt.title(title)\n",
    "\n",
    "plt.show()"
   ]
  },
  {
   "cell_type": "code",
   "execution_count": null,
   "metadata": {},
   "outputs": [],
   "source": []
  }
 ],
 "metadata": {
  "kernelspec": {
   "display_name": "Python 3",
   "language": "python",
   "name": "python3"
  },
  "language_info": {
   "codemirror_mode": {
    "name": "ipython",
    "version": 3
   },
   "file_extension": ".py",
   "mimetype": "text/x-python",
   "name": "python",
   "nbconvert_exporter": "python",
   "pygments_lexer": "ipython3",
   "version": "3.10.4"
  },
  "orig_nbformat": 4
 },
 "nbformat": 4,
 "nbformat_minor": 2
}
