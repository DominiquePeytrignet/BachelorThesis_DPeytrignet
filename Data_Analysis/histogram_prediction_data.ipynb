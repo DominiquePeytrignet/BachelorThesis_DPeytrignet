{
 "cells": [
  {
   "attachments": {},
   "cell_type": "markdown",
   "metadata": {},
   "source": [
    "# Create histograms with the volume data, that show the distribuition of the method chosed by manually setting the threshold value \n",
    "\n"
   ]
  },
  {
   "attachments": {},
   "cell_type": "markdown",
   "metadata": {},
   "source": [
    "### Import dependencies"
   ]
  },
  {
   "cell_type": "code",
   "execution_count": 1,
   "metadata": {},
   "outputs": [],
   "source": [
    "import numpy as np\n",
    "from scipy.stats import norm\n",
    "import matplotlib.pyplot as plt\n",
    "import pandas as pd\n"
   ]
  },
  {
   "cell_type": "code",
   "execution_count": 2,
   "metadata": {},
   "outputs": [],
   "source": [
    "# !pip install openpyxl "
   ]
  },
  {
   "attachments": {},
   "cell_type": "markdown",
   "metadata": {},
   "source": [
    "### Read excel file"
   ]
  },
  {
   "cell_type": "code",
   "execution_count": 3,
   "metadata": {},
   "outputs": [
    {
     "data": {
      "text/html": [
       "<div>\n",
       "<style scoped>\n",
       "    .dataframe tbody tr th:only-of-type {\n",
       "        vertical-align: middle;\n",
       "    }\n",
       "\n",
       "    .dataframe tbody tr th {\n",
       "        vertical-align: top;\n",
       "    }\n",
       "\n",
       "    .dataframe thead th {\n",
       "        text-align: right;\n",
       "    }\n",
       "</style>\n",
       "<table border=\"1\" class=\"dataframe\">\n",
       "  <thead>\n",
       "    <tr style=\"text-align: right;\">\n",
       "      <th></th>\n",
       "      <th>filename</th>\n",
       "      <th>image_scale_factor</th>\n",
       "      <th>count</th>\n",
       "      <th>metric_to_pixel</th>\n",
       "      <th>volume</th>\n",
       "    </tr>\n",
       "  </thead>\n",
       "  <tbody>\n",
       "    <tr>\n",
       "      <th>0</th>\n",
       "      <td>cell_frame004141_x0100_y0956_red.tif</td>\n",
       "      <td>0.633663</td>\n",
       "      <td>42103</td>\n",
       "      <td>0.001691</td>\n",
       "      <td>71.216085</td>\n",
       "    </tr>\n",
       "    <tr>\n",
       "      <th>1</th>\n",
       "      <td>cell_frame004141_x0220_y0163_red.tif</td>\n",
       "      <td>0.603774</td>\n",
       "      <td>33192</td>\n",
       "      <td>0.001955</td>\n",
       "      <td>64.901084</td>\n",
       "    </tr>\n",
       "    <tr>\n",
       "      <th>2</th>\n",
       "      <td>cell_frame004141_x0271_y0573_red.tif</td>\n",
       "      <td>0.561404</td>\n",
       "      <td>29141</td>\n",
       "      <td>0.002432</td>\n",
       "      <td>70.879385</td>\n",
       "    </tr>\n",
       "    <tr>\n",
       "      <th>3</th>\n",
       "      <td>cell_frame004141_x0308_y0201_red.tif</td>\n",
       "      <td>0.524590</td>\n",
       "      <td>25434</td>\n",
       "      <td>0.002981</td>\n",
       "      <td>75.821975</td>\n",
       "    </tr>\n",
       "    <tr>\n",
       "      <th>4</th>\n",
       "      <td>cell_frame004141_x0425_y0085_red.tif</td>\n",
       "      <td>0.551724</td>\n",
       "      <td>24490</td>\n",
       "      <td>0.002563</td>\n",
       "      <td>62.757218</td>\n",
       "    </tr>\n",
       "  </tbody>\n",
       "</table>\n",
       "</div>"
      ],
      "text/plain": [
       "                               filename  image_scale_factor  count  \\\n",
       "0  cell_frame004141_x0100_y0956_red.tif            0.633663  42103   \n",
       "1  cell_frame004141_x0220_y0163_red.tif            0.603774  33192   \n",
       "2  cell_frame004141_x0271_y0573_red.tif            0.561404  29141   \n",
       "3  cell_frame004141_x0308_y0201_red.tif            0.524590  25434   \n",
       "4  cell_frame004141_x0425_y0085_red.tif            0.551724  24490   \n",
       "\n",
       "   metric_to_pixel     volume  \n",
       "0         0.001691  71.216085  \n",
       "1         0.001955  64.901084  \n",
       "2         0.002432  70.879385  \n",
       "3         0.002981  75.821975  \n",
       "4         0.002563  62.757218  "
      ]
     },
     "execution_count": 3,
     "metadata": {},
     "output_type": "execute_result"
    }
   ],
   "source": [
    "db = pd.read_excel(\"Volume_Calculation_manualThresh.xlsx\") # uncomment code in cell above if pandas can't read the file \n",
    "db.head()\n",
    "\n"
   ]
  },
  {
   "attachments": {},
   "cell_type": "markdown",
   "metadata": {},
   "source": [
    "### Extract cell volumes from database"
   ]
  },
  {
   "cell_type": "code",
   "execution_count": 4,
   "metadata": {},
   "outputs": [
    {
     "data": {
      "text/plain": [
       "0    71.216085\n",
       "1    64.901084\n",
       "2    70.879385\n",
       "3    75.821975\n",
       "4    62.757218\n",
       "Name: volume, dtype: float64"
      ]
     },
     "execution_count": 4,
     "metadata": {},
     "output_type": "execute_result"
    }
   ],
   "source": [
    "cv = db[\"volume\"]\n",
    "cv.head()"
   ]
  },
  {
   "attachments": {},
   "cell_type": "markdown",
   "metadata": {},
   "source": [
    "### Fit a normal distribution to the data\n",
    " Adapted from @author: Prof. Dr. Cédric Bessire"
   ]
  },
  {
   "cell_type": "code",
   "execution_count": 5,
   "metadata": {},
   "outputs": [
    {
     "name": "stdout",
     "output_type": "stream",
     "text": [
      "<class 'pandas.core.series.Series'>\n",
      "<class 'numpy.ndarray'>\n"
     ]
    }
   ],
   "source": [
    "print(type(cv))\n",
    "cv = cv.to_numpy()\n",
    "print(type(cv))\n",
    "mean, std = norm.fit(cv)"
   ]
  },
  {
   "cell_type": "code",
   "execution_count": 6,
   "metadata": {},
   "outputs": [
    {
     "data": {
      "image/png": "[encoded data removed]",
      "text/plain": [
       "<Figure size 432x288 with 1 Axes>"
      ]
     },
     "metadata": {
      "needs_background": "light"
     },
     "output_type": "display_data"
    }
   ],
   "source": [
    "plt.hist(cv, bins=25, density=True, color='#0504aa', alpha=0.7, rwidth=0.85)\n",
    "xmin, xmax = plt.xlim()\n",
    "x = np.linspace(xmin, xmax, 100)\n",
    "p = norm.pdf(x, mean, std)\n",
    "plt.plot(x, p, 'k', linewidth=2)\n",
    "title = \"Manual Thresholding. Results GAN1: mean = %.2f,  std = %.2f\" % (mean, std)\n",
    "plt.title(title)\n",
    "\n",
    "plt.show()"
   ]
  },
  {
   "attachments": {},
   "cell_type": "markdown",
   "metadata": {},
   "source": [
    "# Create histograms with the volume data, that show the distribuition of the method used by SHAPR\n"
   ]
  },
  {
   "cell_type": "code",
   "execution_count": 7,
   "metadata": {},
   "outputs": [
    {
     "data": {
      "text/html": [
       "<div>\n",
       "<style scoped>\n",
       "    .dataframe tbody tr th:only-of-type {\n",
       "        vertical-align: middle;\n",
       "    }\n",
       "\n",
       "    .dataframe tbody tr th {\n",
       "        vertical-align: top;\n",
       "    }\n",
       "\n",
       "    .dataframe thead th {\n",
       "        text-align: right;\n",
       "    }\n",
       "</style>\n",
       "<table border=\"1\" class=\"dataframe\">\n",
       "  <thead>\n",
       "    <tr style=\"text-align: right;\">\n",
       "      <th></th>\n",
       "      <th>filename</th>\n",
       "      <th>image_scale_factor</th>\n",
       "      <th>count</th>\n",
       "      <th>metric_to_pixel</th>\n",
       "      <th>volume</th>\n",
       "    </tr>\n",
       "  </thead>\n",
       "  <tbody>\n",
       "    <tr>\n",
       "      <th>0</th>\n",
       "      <td>cell_frame004141_x0100_y0956_red.tif</td>\n",
       "      <td>0.633663</td>\n",
       "      <td>51987</td>\n",
       "      <td>0.001691</td>\n",
       "      <td>87.934604</td>\n",
       "    </tr>\n",
       "    <tr>\n",
       "      <th>1</th>\n",
       "      <td>cell_frame004141_x0220_y0163_red.tif</td>\n",
       "      <td>0.603774</td>\n",
       "      <td>41832</td>\n",
       "      <td>0.001955</td>\n",
       "      <td>81.795075</td>\n",
       "    </tr>\n",
       "    <tr>\n",
       "      <th>2</th>\n",
       "      <td>cell_frame004141_x0271_y0573_red.tif</td>\n",
       "      <td>0.561404</td>\n",
       "      <td>35622</td>\n",
       "      <td>0.002432</td>\n",
       "      <td>86.643061</td>\n",
       "    </tr>\n",
       "    <tr>\n",
       "      <th>3</th>\n",
       "      <td>cell_frame004141_x0308_y0201_red.tif</td>\n",
       "      <td>0.524590</td>\n",
       "      <td>31185</td>\n",
       "      <td>0.002981</td>\n",
       "      <td>92.966434</td>\n",
       "    </tr>\n",
       "    <tr>\n",
       "      <th>4</th>\n",
       "      <td>cell_frame004141_x0425_y0085_red.tif</td>\n",
       "      <td>0.551724</td>\n",
       "      <td>29913</td>\n",
       "      <td>0.002563</td>\n",
       "      <td>76.654009</td>\n",
       "    </tr>\n",
       "  </tbody>\n",
       "</table>\n",
       "</div>"
      ],
      "text/plain": [
       "                               filename  image_scale_factor  count  \\\n",
       "0  cell_frame004141_x0100_y0956_red.tif            0.633663  51987   \n",
       "1  cell_frame004141_x0220_y0163_red.tif            0.603774  41832   \n",
       "2  cell_frame004141_x0271_y0573_red.tif            0.561404  35622   \n",
       "3  cell_frame004141_x0308_y0201_red.tif            0.524590  31185   \n",
       "4  cell_frame004141_x0425_y0085_red.tif            0.551724  29913   \n",
       "\n",
       "   metric_to_pixel     volume  \n",
       "0         0.001691  87.934604  \n",
       "1         0.001955  81.795075  \n",
       "2         0.002432  86.643061  \n",
       "3         0.002981  92.966434  \n",
       "4         0.002563  76.654009  "
      ]
     },
     "execution_count": 7,
     "metadata": {},
     "output_type": "execute_result"
    }
   ],
   "source": [
    "db = pd.read_excel(\"Volume_Calculation_bySHAPR.xlsx\") # uncomment code in cell above if pandas can't read the file \n",
    "db.head()\n"
   ]
  },
  {
   "cell_type": "code",
   "execution_count": 8,
   "metadata": {},
   "outputs": [
    {
     "data": {
      "text/plain": [
       "0    87.934604\n",
       "1    81.795075\n",
       "2    86.643061\n",
       "3    92.966434\n",
       "4    76.654009\n",
       "Name: volume, dtype: float64"
      ]
     },
     "execution_count": 8,
     "metadata": {},
     "output_type": "execute_result"
    }
   ],
   "source": [
    "cv = db[\"volume\"]\n",
    "cv.head()"
   ]
  },
  {
   "cell_type": "code",
   "execution_count": 9,
   "metadata": {},
   "outputs": [
    {
     "data": {
      "image/png": "[encoded data removed]",
      "text/plain": [
       "<Figure size 432x288 with 1 Axes>"
      ]
     },
     "metadata": {
      "needs_background": "light"
     },
     "output_type": "display_data"
    }
   ],
   "source": [
    "\n",
    "cv = cv.to_numpy()\n",
    "mean, std = norm.fit(cv)\n",
    "plt.hist(cv, bins=25, density=True, color='#0504aa', alpha=0.7, rwidth=0.85)\n",
    "xmin, xmax = plt.xlim()\n",
    "x = np.linspace(xmin, xmax, 100)\n",
    "p = norm.pdf(x, mean, std)\n",
    "plt.plot(x, p, 'k', linewidth=2)\n",
    "title = \"Thresholding by SHAPR. Results GAN1: mean = %.2f,  std = %.2f\" % (mean, std)\n",
    "plt.title(title)\n",
    "\n",
    "plt.show()"
   ]
  },
  {
   "attachments": {},
   "cell_type": "markdown",
   "metadata": {},
   "source": [
    "### Compare both"
   ]
  },
  {
   "cell_type": "code",
   "execution_count": 10,
   "metadata": {},
   "outputs": [
    {
     "data": {
      "image/png": "[encoded data removed]",
      "text/plain": [
       "<Figure size 432x288 with 1 Axes>"
      ]
     },
     "metadata": {
      "needs_background": "light"
     },
     "output_type": "display_data"
    },
    {
     "data": {
      "image/png": "[encoded data removed]",
      "text/plain": [
       "<Figure size 432x288 with 1 Axes>"
      ]
     },
     "metadata": {
      "needs_background": "light"
     },
     "output_type": "display_data"
    }
   ],
   "source": [
    "db = pd.read_excel(\"Volume_Calculation_manualThresh.xlsx\") # uncomment code in cell above if pandas can't read the file \n",
    "cv = db[\"volume\"]\n",
    "cv = cv.to_numpy()\n",
    "mean, std = norm.fit(cv)\n",
    "plt.hist(cv, bins=25, density=True, color='#0504aa', alpha=0.7, rwidth=0.85)\n",
    "xmin, xmax = plt.xlim()\n",
    "x = np.linspace(xmin, xmax, 100)\n",
    "p = norm.pdf(x, mean, std)\n",
    "plt.plot(x, p, 'k', linewidth=2)\n",
    "title = \"Manual Thresholding. Results GAN1: mean = %.2f,  std = %.2f\" % (mean, std)\n",
    "plt.title(title)\n",
    "\n",
    "plt.show()\n",
    "\n",
    "\n",
    "\n",
    "db1 = pd.read_excel(\"Volume_Calculation_bySHAPR.xlsx\") # uncomment code in cell above if pandas can't read the file \n",
    "cv1 = db1[\"volume\"]\n",
    "\n",
    "cv1 = cv1.to_numpy()\n",
    "mean1, std1 = norm.fit(cv1)\n",
    "plt.hist(cv1, bins=25, density=True, color='#0504aa', alpha=0.7, rwidth=0.85)\n",
    "xmin1, xmax1 = plt.xlim()\n",
    "x1 = np.linspace(xmin1, xmax1, 100)\n",
    "p1 = norm.pdf(x1, mean1, std1)\n",
    "plt.plot(x1, p1, 'k', linewidth=2)\n",
    "title1 = \"Thresholding by SHAPR. Results GAN1: mean = %.2f,  std = %.2f\" % (mean1, std1)\n",
    "plt.title(title1)\n",
    "\n",
    "plt.show()"
   ]
  },
  {
   "cell_type": "code",
   "execution_count": null,
   "metadata": {},
   "outputs": [],
   "source": []
  }
 ],
 "metadata": {
  "kernelspec": {
   "display_name": "Python 3",
   "language": "python",
   "name": "python3"
  },
  "language_info": {
   "codemirror_mode": {
    "name": "ipython",
    "version": 3
   },
   "file_extension": ".py",
   "mimetype": "text/x-python",
   "name": "python",
   "nbconvert_exporter": "python",
   "pygments_lexer": "ipython3",
   "version": "3.10.4"
  },
  "orig_nbformat": 4
 },
 "nbformat": 4,
 "nbformat_minor": 2
}
