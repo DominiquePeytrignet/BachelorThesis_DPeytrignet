{
 "cells": [
  {
   "attachments": {},
   "cell_type": "markdown",
   "metadata": {},
   "source": [
    "# Create histograms with the volume data, that show the distribuition of the method chosed by manually setting the threshold value \n",
    "\n"
   ]
  },
  {
   "attachments": {},
   "cell_type": "markdown",
   "metadata": {},
   "source": [
    "### Import dependencies"
   ]
  },
  {
   "cell_type": "code",
   "execution_count": null,
   "metadata": {},
   "outputs": [],
   "source": [
    "import numpy as np\n",
    "from scipy.stats import norm\n",
    "import matplotlib.pyplot as plt\n",
    "import pandas as pd\n"
   ]
  },
  {
   "cell_type": "code",
   "execution_count": null,
   "metadata": {},
   "outputs": [],
   "source": [
    "# !pip install openpyxl "
   ]
  },
  {
   "attachments": {},
   "cell_type": "markdown",
   "metadata": {},
   "source": [
    "### Read excel file"
   ]
  },
  {
   "cell_type": "code",
   "execution_count": null,
   "metadata": {},
   "outputs": [],
   "source": [
    "db = pd.read_excel(\"Volume_Calculation_manualThresh.xlsx\") # uncomment code in cell above if pandas can't read the file \n",
    "db.head()\n",
    "\n"
   ]
  },
  {
   "attachments": {},
   "cell_type": "markdown",
   "metadata": {},
   "source": [
    "### Extract cell volumes from database"
   ]
  },
  {
   "cell_type": "code",
   "execution_count": null,
   "metadata": {},
   "outputs": [],
   "source": [
    "cv = db[\"volume\"]\n",
    "cv.head()"
   ]
  },
  {
   "attachments": {},
   "cell_type": "markdown",
   "metadata": {},
   "source": [
    "### Fit a normal distribution to the data\n",
    " Adapted from @author: Prof. Dr. Cédric Bessire"
   ]
  },
  {
   "cell_type": "code",
   "execution_count": null,
   "metadata": {},
   "outputs": [],
   "source": [
    "print(type(cv))\n",
    "cv = cv.to_numpy()\n",
    "print(type(cv))\n",
    "mean, std = norm.fit(cv)"
   ]
  },
  {
   "cell_type": "code",
   "execution_count": null,
   "metadata": {},
   "outputs": [],
   "source": [
    "plt.hist(cv, bins=25, density=True, color='#0504aa', alpha=0.7, rwidth=0.85)\n",
    "xmin, xmax = plt.xlim()\n",
    "x = np.linspace(xmin, xmax, 100)\n",
    "p = norm.pdf(x, mean, std)\n",
    "plt.plot(x, p, 'k', linewidth=2)\n",
    "title = \"Manual Thresholding. Results Discocyte_GAN3: mean = %.2ffL,  std = %.2ffL\" % (mean, std)\n",
    "plt.title(title)\n",
    "plt.xlabel('Cell Volume [fL]')\n",
    "plt.ylabel('Probability Density')\n",
    "\n",
    "plt.show()"
   ]
  },
  {
   "attachments": {},
   "cell_type": "markdown",
   "metadata": {},
   "source": [
    "# Create histograms with the volume data, that show the distribuition of the method used by SHAPR\n"
   ]
  },
  {
   "cell_type": "code",
   "execution_count": null,
   "metadata": {},
   "outputs": [],
   "source": [
    "db = pd.read_excel(\"Volume_Calculation_bySHAPR.xlsx\") # uncomment code in cell above if pandas can't read the file \n",
    "db.head()\n"
   ]
  },
  {
   "cell_type": "code",
   "execution_count": null,
   "metadata": {},
   "outputs": [],
   "source": [
    "cv = db[\"volume\"]\n",
    "cv.head()"
   ]
  },
  {
   "cell_type": "code",
   "execution_count": null,
   "metadata": {},
   "outputs": [],
   "source": [
    "\n",
    "cv = cv.to_numpy()\n",
    "mean, std = norm.fit(cv)\n",
    "plt.hist(cv, bins=25, density=True, color='#0504aa', alpha=0.7, rwidth=0.85)\n",
    "xmin, xmax = plt.xlim()\n",
    "x = np.linspace(xmin, xmax, 100)\n",
    "p = norm.pdf(x, mean, std)\n",
    "plt.plot(x, p, 'k', linewidth=2)\n",
    "title = \"Thresholding by SHAPR. Results Discocyte_GAN3: mean = %.2ffL,  std = %.2ffL\" % (mean, std)\n",
    "plt.title(title)\n",
    "plt.xlabel('Cell Volume [fL]')\n",
    "plt.ylabel('Probability Density')\n",
    "\n",
    "plt.show()"
   ]
  },
  {
   "attachments": {},
   "cell_type": "markdown",
   "metadata": {},
   "source": [
    "### Compare both and calculate the probability that a prediction lies between 89 and 94fL."
   ]
  },
  {
   "cell_type": "code",
   "execution_count": null,
   "metadata": {},
   "outputs": [],
   "source": [
    "db = pd.read_excel(\"Volume_Calculation_manualThresh.xlsx\") # uncomment code in cell above if pandas can't read the file \n",
    "cv = db[\"volume\"]\n",
    "cv = cv.to_numpy()\n",
    "mean, std = norm.fit(cv)\n",
    "plt.hist(cv, bins=25, density=True, color='#0504aa', alpha=0.7, rwidth=0.85)\n",
    "xmin, xmax = plt.xlim()\n",
    "x = np.linspace(xmin, xmax, 100)\n",
    "p = norm.pdf(x, mean, std)\n",
    "plt.plot(x, p, 'k', linewidth=2)\n",
    "title = \"Manual Thresholding. Results Discocyte GAN3: mean = %.2ffL,  std = %.2ffL\" % (mean, std)\n",
    "plt.title(title)\n",
    "plt.xlabel('Cell Volume [fL]')\n",
    "plt.ylabel('Probability Density')\n",
    "\n",
    "x_start = 89\n",
    "x_end = 94\n",
    "\n",
    "start_index = np.argmax(x >= x_start)\n",
    "end_index = np.argmax(x >= x_end)\n",
    "\n",
    "# calculate the probability that a measurement is between 89 and 94fL, which are normal rbc volumes  for a healthy male. \n",
    "area_under_curve = np.trapz(p[start_index:end_index], x[start_index:end_index])\n",
    "plt.axvline(x=x_start, color='r', linestyle='--', label=f'Probability of {x_start}-{x_end}fL: {round(area_under_curve,2)}')\n",
    "plt.axvline(x=x_end, color='r', linestyle='--')\n",
    "plt.legend()\n",
    "plt.show()\n",
    "\n",
    "print(\"Manual Thresholding: Area under the curve from\", x_start, \"to\", x_end, \":\", area_under_curve)\n",
    "\n",
    "\n",
    "\n",
    "db1 = pd.read_excel(\"Volume_Calculation_bySHAPR.xlsx\") # uncomment code in cell above if pandas can't read the file \n",
    "cv1 = db1[\"volume\"]\n",
    "\n",
    "cv1 = cv1.to_numpy()\n",
    "mean1, std1 = norm.fit(cv1)\n",
    "plt.hist(cv1, bins=25, density=True, color='#0504aa', alpha=0.7, rwidth=0.85)\n",
    "xmin1, xmax1 = plt.xlim()\n",
    "x1 = np.linspace(xmin1, xmax1, 100)\n",
    "p1 = norm.pdf(x1, mean1, std1)\n",
    "plt.plot(x1, p1, 'k', linewidth=2)\n",
    "title1 = \"Thresholding by SHAPR. Results Discocyte GAN3: mean = %.2ffL,  std = %.2ffL\" % (mean1, std1)\n",
    "plt.title(title1)\n",
    "plt.xlabel('Cell Volume [fL]')\n",
    "plt.ylabel('Probability Density')\n",
    "\n",
    "# calculate the probability that a measurement is between 89 and 94fL, which are normal rbc volumes  for a healthy male. \n",
    "x_start = 89\n",
    "x_end = 94\n",
    "\n",
    "start_index = np.argmax(x1 >= x_start)\n",
    "end_index = np.argmax(x1 >= x_end)\n",
    "\n",
    "area_under_curve = np.trapz(p1[start_index:end_index], x1[start_index:end_index])\n",
    "\n",
    "plt.axvline(x=x_start, color='r', linestyle='--', label=f'Probability of {x_start}-{x_end}fL: {round(area_under_curve,2)}')\n",
    "plt.axvline(x=x_end, color='r', linestyle='--')\n",
    "plt.legend()\n",
    "plt.show()\n",
    "print(\"Thresholding by SHAPR: Area under the curve from\", x_start, \"to\", x_end, \":\", area_under_curve)"
   ]
  },
  {
   "cell_type": "code",
   "execution_count": null,
   "metadata": {},
   "outputs": [],
   "source": []
  }
 ],
 "metadata": {
  "kernelspec": {
   "display_name": "Python 3",
   "language": "python",
   "name": "python3"
  },
  "language_info": {
   "codemirror_mode": {
    "name": "ipython",
    "version": 3
   },
   "file_extension": ".py",
   "mimetype": "text/x-python",
   "name": "python",
   "nbconvert_exporter": "python",
   "pygments_lexer": "ipython3",
   "version": "3.10.4"
  },
  "orig_nbformat": 4
 },
 "nbformat": 4,
 "nbformat_minor": 2
}
