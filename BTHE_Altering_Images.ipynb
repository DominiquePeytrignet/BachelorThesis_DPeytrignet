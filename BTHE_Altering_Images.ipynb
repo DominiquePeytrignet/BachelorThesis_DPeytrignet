{
 "cells": [
  {
   "attachments": {},
   "cell_type": "markdown",
   "metadata": {},
   "source": [
    "# Altering Images so that they meet the requirements from the SHAPR model (GAN)"
   ]
  },
  {
   "attachments": {},
   "cell_type": "markdown",
   "metadata": {},
   "source": [
    "The Images are provided by the Swiss Institue of Translational and Entrepreneurial Medicine (SITEM) in Bern, Switzerland.\n"
   ]
  },
  {
   "attachments": {},
   "cell_type": "markdown",
   "metadata": {},
   "source": [
    "The model requires the images to be in shape of 64x64 pixels. The images in the folder \"Images_for_prediction\" have different shapes according to the size of the red blood cell. \n",
    "\n",
    "This script aims to alter these images and save them as 64x64px images in the folder \"image\" which can then later be used to perform the predictions on them. "
   ]
  },
  {
   "attachments": {},
   "cell_type": "markdown",
   "metadata": {},
   "source": []
  },
  {
   "attachments": {},
   "cell_type": "markdown",
   "metadata": {},
   "source": [
    "### Trying to change the size of the image without altering the aspect ratio of the RBC. (Without streching the RBC) \n",
    "### In addition a gray background canvas is added so that it meets the 64x64 pixel size"
   ]
  },
  {
   "attachments": {},
   "cell_type": "markdown",
   "metadata": {},
   "source": [
    "### Try it on a single image"
   ]
  },
  {
   "attachments": {},
   "cell_type": "markdown",
   "metadata": {},
   "source": [
    "#### Import dependencies"
   ]
  },
  {
   "cell_type": "code",
   "execution_count": 1,
   "metadata": {},
   "outputs": [],
   "source": [
    "from PIL import Image"
   ]
  },
  {
   "attachments": {},
   "cell_type": "markdown",
   "metadata": {},
   "source": [
    "#### Load Images"
   ]
  },
  {
   "cell_type": "code",
   "execution_count": 2,
   "metadata": {},
   "outputs": [
    {
     "data": {
      "image/png": "[encoded data removed]",
      "text/plain": [
       "<PIL.JpegImagePlugin.JpegImageFile image mode=L size=72x101>"
      ]
     },
     "execution_count": 2,
     "metadata": {},
     "output_type": "execute_result"
    }
   ],
   "source": [
    "original_image = Image.open(\"Images_for_prediction/cell_frame004148_x0126_y0201_red.jpg\")\n",
    "original_image"
   ]
  },
  {
   "attachments": {},
   "cell_type": "markdown",
   "metadata": {},
   "source": [
    "#### Calculate aspect ratio"
   ]
  },
  {
   "cell_type": "code",
   "execution_count": 3,
   "metadata": {},
   "outputs": [],
   "source": [
    "desired_width, desired_height = 64, 64\n",
    "desired_aspect_ratio = desired_width / desired_height"
   ]
  },
  {
   "attachments": {},
   "cell_type": "markdown",
   "metadata": {},
   "source": [
    "#### Determine the image-scale-factor for resizing while preserving the aspect ratio:\n"
   ]
  },
  {
   "cell_type": "code",
   "execution_count": 4,
   "metadata": {},
   "outputs": [
    {
     "data": {
      "text/plain": [
       "0.6336633663366337"
      ]
     },
     "execution_count": 4,
     "metadata": {},
     "output_type": "execute_result"
    }
   ],
   "source": [
    "current_width, current_height = original_image.size\n",
    "current_aspect_ratio = current_width / current_height\n",
    "\n",
    "if current_aspect_ratio > desired_aspect_ratio:\n",
    "    # The original image is wider than the desired aspect ratio, so the width will be the limiting factor.\n",
    "    scale_factor = desired_width / current_width\n",
    "else:\n",
    "    # The original image is taller than the desired aspect ratio, so the height will be the limiting factor.\n",
    "    scale_factor = desired_height / current_height\n",
    "\n",
    "scale_factor "
   ]
  },
  {
   "attachments": {},
   "cell_type": "markdown",
   "metadata": {},
   "source": [
    "#### Calculate the new size based on the scale factor"
   ]
  },
  {
   "cell_type": "code",
   "execution_count": 5,
   "metadata": {},
   "outputs": [
    {
     "data": {
      "text/plain": [
       "(45, 64)"
      ]
     },
     "execution_count": 5,
     "metadata": {},
     "output_type": "execute_result"
    }
   ],
   "source": [
    "new_size = (int(current_width * scale_factor), int(current_height * scale_factor))\n",
    "new_size"
   ]
  },
  {
   "attachments": {},
   "cell_type": "markdown",
   "metadata": {},
   "source": [
    "#### Resize the image while preserving the aspect ratio"
   ]
  },
  {
   "cell_type": "code",
   "execution_count": 6,
   "metadata": {},
   "outputs": [
    {
     "name": "stderr",
     "output_type": "stream",
     "text": [
      "C:\\Users\\Domin\\AppData\\Local\\Temp\\ipykernel_27424\\3999035377.py:1: DeprecationWarning: ANTIALIAS is deprecated and will be removed in Pillow 10 (2023-07-01). Use Resampling.LANCZOS instead.\n",
      "  resized_image = original_image.resize(new_size, Image.ANTIALIAS)\n"
     ]
    },
    {
     "data": {
      "image/png": "[encoded data removed]",
      "text/plain": [
       "<PIL.Image.Image image mode=L size=45x64>"
      ]
     },
     "execution_count": 6,
     "metadata": {},
     "output_type": "execute_result"
    }
   ],
   "source": [
    "resized_image = original_image.resize(new_size, Image.ANTIALIAS)\n",
    "resized_image\n"
   ]
  },
  {
   "attachments": {},
   "cell_type": "markdown",
   "metadata": {},
   "source": [
    "Create a  square canvas with a gray background:\n"
   ]
  },
  {
   "cell_type": "code",
   "execution_count": 8,
   "metadata": {},
   "outputs": [
    {
     "data": {
      "image/png": "[encoded data removed]",
      "text/plain": [
       "<PIL.Image.Image image mode=L size=64x64>"
      ]
     },
     "execution_count": 8,
     "metadata": {},
     "output_type": "execute_result"
    }
   ],
   "source": [
    "# get color value for the gray background from the first pixel at the top left corner which is always the background value\n",
    "import cv2\n",
    "img = cv2.imread(\"Images_for_prediction/cell_frame004148_x0126_y0201_red.jpg\",2)\n",
    "background_value = img[0][0]\n",
    "background_value = int(background_value)\n",
    "\n",
    "\n",
    "canvas = Image.new(\"L\", (desired_width, desired_height), background_value) \n",
    "canvas\n"
   ]
  },
  {
   "attachments": {},
   "cell_type": "markdown",
   "metadata": {},
   "source": [
    "#### Paste the resized image onto the center of the canvas"
   ]
  },
  {
   "cell_type": "code",
   "execution_count": 9,
   "metadata": {},
   "outputs": [
    {
     "data": {
      "image/png": "[encoded data removed]",
      "text/plain": [
       "<PIL.Image.Image image mode=L size=64x64>"
      ]
     },
     "execution_count": 9,
     "metadata": {},
     "output_type": "execute_result"
    }
   ],
   "source": [
    "paste_position = ((desired_width - new_size[0]) // 2, (desired_height - new_size[1]) // 2)\n",
    "canvas.paste(resized_image, paste_position)\n",
    "canvas\n"
   ]
  },
  {
   "attachments": {},
   "cell_type": "markdown",
   "metadata": {},
   "source": [
    "#### Save the resulting image \n"
   ]
  },
  {
   "cell_type": "code",
   "execution_count": 10,
   "metadata": {},
   "outputs": [],
   "source": [
    "canvas.save(\"Created_Images/resized_RBC.png\")  \n",
    "\n"
   ]
  },
  {
   "attachments": {},
   "cell_type": "markdown",
   "metadata": {},
   "source": [
    "## Apply above code to all the images in the folder \"Images_for_prediction\" and save to \"image\" as Tif file"
   ]
  },
  {
   "cell_type": "code",
   "execution_count": 12,
   "metadata": {},
   "outputs": [
    {
     "name": "stdout",
     "output_type": "stream",
     "text": [
      "Resized image saved: image\\cell_frame004148_x0126_y0201_red.jpg\n"
     ]
    },
    {
     "name": "stderr",
     "output_type": "stream",
     "text": [
      "C:\\Users\\Domin\\AppData\\Local\\Temp\\ipykernel_27424\\3224825546.py:39: DeprecationWarning: ANTIALIAS is deprecated and will be removed in Pillow 10 (2023-07-01). Use Resampling.LANCZOS instead.\n",
      "  resized_image = original_image.resize(new_size, Image.ANTIALIAS)\n"
     ]
    }
   ],
   "source": [
    "import os\n",
    "from PIL import Image\n",
    "\n",
    "# Set the path to the folder containing the images\n",
    "folder_path = \"Images_for_prediction\"  \n",
    "result_path = \"image\" \n",
    "\n",
    "# Set the desired dimensions for resizing\n",
    "desired_width, desired_height = 64, 64\n",
    "desired_aspect_ratio = desired_width / desired_height\n",
    "\n",
    "# Loop over all the files in the folder\n",
    "for filename in os.listdir(folder_path):\n",
    "    if filename.endswith(\".png\") or filename.endswith(\".jpg\"):\n",
    "        # Load the original image\n",
    "        file_path = os.path.join(folder_path, filename)\n",
    "        original_image = Image.open(file_path)\n",
    "\n",
    "        # get pixel values of all corners\n",
    "        top_left_color = original_image.getpixel((0, 0))\n",
    "        top_right_color = original_image.getpixel((original_image.width - 1, 0))\n",
    "        bottom_left_color = original_image.getpixel((0, original_image.height - 1))\n",
    "        bottom_right_color = original_image.getpixel((original_image.width - 1, original_image.height - 1))\n",
    "\n",
    "        # Find the lowest pixelvalue of the four corner for the background color of the canvas\n",
    "        background_color = (min(top_left_color, top_right_color, bottom_left_color, bottom_right_color))\n",
    "       \n",
    "        # Perform the resizing and the canvas creation\n",
    "        current_width, current_height = original_image.size\n",
    "        current_aspect_ratio = current_width / current_height\n",
    "\n",
    "        if current_aspect_ratio > desired_aspect_ratio:\n",
    "            scale_factor = desired_width / current_width\n",
    "        else:\n",
    "            scale_factor = desired_height / current_height\n",
    "\n",
    "        new_size = (int(current_width * scale_factor), int(current_height * scale_factor))\n",
    "\n",
    "        resized_image = original_image.resize(new_size, Image.ANTIALIAS)\n",
    "        resized_image = resized_image.convert(\"L\") # grayscale\n",
    "\n",
    "        canvas = Image.new(\"L\", (desired_width, desired_height), background_color) \n",
    "\n",
    "        paste_position = ((desired_width - new_size[0]) // 2, (desired_height - new_size[1]) // 2)\n",
    "        canvas.paste(resized_image, paste_position)\n",
    "       \n",
    "\n",
    "        # Save the resulting image to the new folder\n",
    "        new_file_path = os.path.join(result_path, filename)\n",
    "        canvas.save(new_file_path)\n",
    "\n",
    "        print(f\"Resized image saved: {new_file_path}\")\n"
   ]
  },
  {
   "attachments": {},
   "cell_type": "markdown",
   "metadata": {},
   "source": [
    "## Binary Thresholding so that the RBC is well segmented and the images can be saved to the \"mask\" folder"
   ]
  },
  {
   "cell_type": "code",
   "execution_count": 14,
   "metadata": {},
   "outputs": [
    {
     "data": {
      "image/png": "[encoded data removed]",
      "text/plain": [
       "<Figure size 432x288 with 1 Axes>"
      ]
     },
     "metadata": {},
     "output_type": "display_data"
    }
   ],
   "source": [
    "# https://docs.opencv.org/4.x/d7/d4d/tutorial_py_thresholding.html\n",
    "import cv2 as cv\n",
    "import numpy as np\n",
    "from matplotlib import pyplot as plt\n",
    "a= 175#defined as good result after testing on multiple images \n",
    "img = cv.imread('image/cell_frame004148_x0126_y0201_red.jpg', 2) #example image to test the code\n",
    "assert img is not None, \"file could not be read, check with os.path.exists()\"\n",
    "ret,thresh = cv.threshold(img,a,255,cv.THRESH_BINARY)\n",
    "\n",
    "title = 'BINARY'\n",
    "cv.imwrite(\"Created_Images/thresholded_RBC.png\", thresh)\n",
    "\n",
    "\n",
    "plt.imshow(thresh,'gray',vmin=0,vmax=255)\n",
    "plt.title(title)\n",
    "plt.xticks([]),plt.yticks([])\n",
    "plt.show()"
   ]
  },
  {
   "attachments": {},
   "cell_type": "markdown",
   "metadata": {},
   "source": [
    "### Adapted code so that it can be applied to all the images in the folder \"image\""
   ]
  },
  {
   "cell_type": "code",
   "execution_count": 15,
   "metadata": {},
   "outputs": [],
   "source": [
    "import cv2 as cv\n",
    "import os\n",
    "from matplotlib import pyplot as plt\n",
    "\n",
    "# Set the path to the folder containing the images\n",
    "folder_path = \"image\" \n",
    "result_path = \"mask\"\n",
    "\n",
    "# Set the threshold value\n",
    "threshold_value = 175 #manually identified\n",
    "\n",
    "\n",
    "# Loop over all the files in the folder\n",
    "for filename in os.listdir(folder_path):\n",
    "    if filename.endswith(\".jpg\") or filename.endswith(\".png\"):\n",
    "        # Load the original image\n",
    "        file_path = os.path.join(folder_path, filename)\n",
    "        img = cv.imread(file_path, 2)\n",
    "        assert img is not None, f\"{file_path} could not be read, check with os.path.exists()\"\n",
    "\n",
    "        # Apply thresholding\n",
    "        ret, thresh = cv.threshold(img, threshold_value, 255, cv.THRESH_BINARY)\n",
    "\n",
    "        # Save the thresholded image to the output folder\n",
    "        output_file_path = os.path.join(result_path, f\"{filename}\")\n",
    "        \n",
    "        cv.imwrite(output_file_path, thresh)\n"
   ]
  },
  {
   "attachments": {},
   "cell_type": "markdown",
   "metadata": {},
   "source": [
    "With this script and the images in the folder \"image\" and \"mask\" it is now possible to predict the shape of the RBC. For this the notebook \"BTHE_applying_SHAPR\" is created"
   ]
  },
  {
   "attachments": {},
   "cell_type": "markdown",
   "metadata": {},
   "source": []
  }
 ],
 "metadata": {
  "kernelspec": {
   "display_name": "Python 3",
   "language": "python",
   "name": "python3"
  },
  "language_info": {
   "codemirror_mode": {
    "name": "ipython",
    "version": 3
   },
   "file_extension": ".py",
   "mimetype": "text/x-python",
   "name": "python",
   "nbconvert_exporter": "python",
   "pygments_lexer": "ipython3",
   "version": "3.10.4"
  },
  "orig_nbformat": 4
 },
 "nbformat": 4,
 "nbformat_minor": 2
}
