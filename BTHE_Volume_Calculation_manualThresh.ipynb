{
 "cells": [
  {
   "attachments": {},
   "cell_type": "markdown",
   "metadata": {},
   "source": [
    "# In this script im trying to calculate the volume of the single RBC by considering the pixel to metric ratio provided by the microscope setup, which was determined to 75.5 nm per pixel"
   ]
  },
  {
   "attachments": {},
   "cell_type": "markdown",
   "metadata": {},
   "source": [
    "### Try it on single image"
   ]
  },
  {
   "attachments": {},
   "cell_type": "markdown",
   "metadata": {},
   "source": [
    "### Import dependencies"
   ]
  },
  {
   "cell_type": "code",
   "execution_count": 1,
   "metadata": {},
   "outputs": [],
   "source": [
    "import os\n",
    "import cv2"
   ]
  },
  {
   "attachments": {},
   "cell_type": "markdown",
   "metadata": {},
   "source": [
    "### Read every single frame from the tif-file and store it in a list "
   ]
  },
  {
   "cell_type": "code",
   "execution_count": 2,
   "metadata": {},
   "outputs": [],
   "source": [
    "from PIL import Image\n",
    "import numpy as np\n",
    "# Open the TIFF file\n",
    "tiff_file = Image.open(\"Results/cell_frame004141_x0100_y0956_red.tif\")\n",
    "\n",
    "\n",
    "frames= []\n",
    "\n",
    "# Iterate over each frame in the TIFF file\n",
    "for i in range(tiff_file.n_frames):\n",
    "    # Go to the current frame\n",
    "    tiff_file.seek(i)\n",
    "\n",
    "    # Convert the frame to the unsigned 8-bit integer format\n",
    "    frame = tiff_file.copy()  # Convert to grayscale if needed\n",
    "    frame = np.array(frame)\n",
    "    frame = (frame * 255).astype(np.uint8)\n",
    "\n",
    "    # Append the frame to the list\n",
    "    frames.append(frame)\n",
    "    \n"
   ]
  },
  {
   "attachments": {},
   "cell_type": "markdown",
   "metadata": {},
   "source": [
    "### find optimal threshold for volume calculation / read in \"BTHE_3D_visualization.py\""
   ]
  },
  {
   "cell_type": "code",
   "execution_count": 3,
   "metadata": {},
   "outputs": [],
   "source": [
    "import numpy as np\n",
    "import tifffile\n",
    "\n",
    "def threshold_volume(input_file, output_file, threshold):\n",
    "    # Load the TIF volume\n",
    "    volume = tifffile.imread(input_file)\n",
    "    volume = volume *255\n",
    "\n",
    "    # Apply the thresholding\n",
    "    binary_volume = np.where(volume < threshold, 0, 255).astype(np.uint8)\n",
    "\n",
    "    # Save the binary volume as a TIF file\n",
    "    tifffile.imwrite(output_file, binary_volume)\n",
    "\n",
    "# Example file\n",
    "input_file = 'Results/cell_frame004144_x0181_y0104_red.tif'\n",
    "output_file = 'Created_Images/output.tif'\n",
    "threshold_value = 175 #optimtal threshold value\n",
    "\n",
    "\n",
    "threshold_volume(input_file, output_file, threshold_value)"
   ]
  },
  {
   "attachments": {},
   "cell_type": "markdown",
   "metadata": {},
   "source": [
    "### Count the pixels in each frame which are above a certain threshold intensity value"
   ]
  },
  {
   "cell_type": "code",
   "execution_count": 4,
   "metadata": {},
   "outputs": [
    {
     "data": {
      "text/plain": [
       "42103"
      ]
     },
     "execution_count": 4,
     "metadata": {},
     "output_type": "execute_result"
    }
   ],
   "source": [
    "threshold = 175\n",
    "\n",
    "count = 0\n",
    "for i in range(len(frames)):\n",
    "    sum = np.sum(frames[i] > threshold)\n",
    "    count = count + sum\n",
    "\n",
    "count #amount of pixels above threshold intensity\n",
    "\n"
   ]
  },
  {
   "attachments": {},
   "cell_type": "markdown",
   "metadata": {},
   "source": [
    "### Multiply the counted pixels with the ratio to get the real-world dimensions"
   ]
  },
  {
   "cell_type": "code",
   "execution_count": 5,
   "metadata": {},
   "outputs": [
    {
     "name": "stdout",
     "output_type": "stream",
     "text": [
      "71\n"
     ]
    }
   ],
   "source": [
    "metric_to_pixel = (75.5/1000) #75.5nm/px ; /1000 => micrometer/px; \n",
    "scaling_factor = 0.633 #from the jupyter notebook \"BTHE_Altering_Images.ipynb\" \n",
    "metric_to_pixel = (metric_to_pixel / scaling_factor )  ** 3 #new metric to pixel value because the input image was resized (without loosing aspect ratio); ^3 to get cubic-micrometer\n",
    "\n",
    "volume = count * metric_to_pixel # cubic micrometer\n",
    "print(int(volume))\n"
   ]
  },
  {
   "attachments": {},
   "cell_type": "markdown",
   "metadata": {},
   "source": [
    "## Apply to all tif-files in the predictions folder \"results\" and store it in a new excel"
   ]
  },
  {
   "attachments": {},
   "cell_type": "markdown",
   "metadata": {},
   "source": [
    "### get scaling_factor from every image and store it in a list \n"
   ]
  },
  {
   "cell_type": "code",
   "execution_count": 6,
   "metadata": {},
   "outputs": [
    {
     "name": "stdout",
     "output_type": "stream",
     "text": [
      "11668\n",
      "[0.6336633663366337, 0.6037735849056604, 0.5614035087719298, 0.5245901639344263, 0.5517241379310345]\n"
     ]
    }
   ],
   "source": [
    "import os\n",
    "import cv2\n",
    "from PIL import Image\n",
    "import numpy as np\n",
    "desired_width, desired_height = 64, 64\n",
    "desired_aspect_ratio = desired_width / desired_height\n",
    "\n",
    "\n",
    "\n",
    "# Set the path to the folder containing the images\n",
    "folder_path = \"Images_for_prediction\"  \n",
    "\n",
    "scale_factors = []\n",
    "\n",
    "\n",
    "# Loop over all the files in the folder\n",
    "for filename in os.listdir(folder_path):\n",
    "    if filename.endswith(\".png\") or filename.endswith(\".jpg\"):\n",
    "        # Load the original image\n",
    "        file_path = os.path.join(folder_path, filename)\n",
    "        original_image = Image.open(file_path)\n",
    "\n",
    "        current_width, current_height = original_image.size\n",
    "        current_aspect_ratio = current_width / current_height\n",
    "\n",
    "        if current_aspect_ratio > desired_aspect_ratio:\n",
    "            # The original image is wider than the desired aspect ratio, so the width will be the limiting factor.\n",
    "            scale_factor = desired_width / current_width\n",
    "            scale_factors.append(scale_factor)\n",
    "        else:\n",
    "            # The original image is taller than the desired aspect ratio, so the height will be the limiting factor.\n",
    "            scale_factor = desired_height / current_height\n",
    "            scale_factors.append(scale_factor)\n",
    "\n",
    "\n",
    "print(len(scale_factors))\n",
    "print(scale_factors[:5])"
   ]
  },
  {
   "attachments": {},
   "cell_type": "markdown",
   "metadata": {},
   "source": [
    "### Calculate the volume based on scale_factors and store volumes in new excel file in the folder \"Features\""
   ]
  },
  {
   "cell_type": "code",
   "execution_count": 7,
   "metadata": {},
   "outputs": [],
   "source": [
    "from PIL import Image\n",
    "import numpy as np\n",
    "import openpyxl\n",
    "threshold = 175 #manually defined as good  by experimenting with different values\n",
    "\n",
    "\n",
    "\n",
    "folder_path = \"Results\"\n",
    "out_path = \"Data_Analysis\"\n",
    "\n",
    "# Create a new workbook and get the active sheet\n",
    "workbook = openpyxl.Workbook()\n",
    "sheet = workbook.active\n",
    "sheet.column_dimensions[\"A\"].width = 100\n",
    "\n",
    "\n",
    "sheet[\"A1\"] = \"filename\"\n",
    "sheet[\"B1\"] = \"image_scale_factor\"\n",
    "sheet[\"C1\"] = \"count\"\n",
    "sheet[\"D1\"] = \"metric_to_pixel\"\n",
    "sheet[\"E1\"] = \"volume\"\n",
    "\n",
    "# Loop over all the prediction in the \"Results\" folder\n",
    "for index, filename in enumerate(os.listdir(folder_path)):\n",
    "    file_path = os.path.join(folder_path, filename)\n",
    "    # Open the TIFF file\n",
    "    tiff_file = Image.open(file_path)\n",
    "\n",
    "    frames= []\n",
    "\n",
    "    # Iterate over each frame in the TIFF file\n",
    "    for i in range(tiff_file.n_frames):\n",
    "\n",
    "\n",
    "        \n",
    "        # Go to the current frame\n",
    "        tiff_file.seek(i)\n",
    "\n",
    "        # Convert the frame to the unsigned 8-bit integer format\n",
    "        frame = tiff_file.copy()  # Convert to grayscale if needed\n",
    "        frame = np.array(frame)\n",
    "        frame = (frame * 255).astype(np.uint8)\n",
    "\n",
    "        # Append the frame to the list\n",
    "        frames.append(frame)\n",
    "\n",
    "\n",
    "    count = 0\n",
    "    for i in range(len(frames)):\n",
    "        sum = np.sum(frames[i] > threshold)\n",
    "        count = count + sum\n",
    "    \n",
    "    metric_to_pixel = (75.5/1000) #75.5nm/px ; /1000 => micrometer/px; \n",
    "    scaling_factor = scale_factors[index] #from the jupyter notebook \"BTHE_Altering_Images.ipynb\" \n",
    "    metric_to_pixel = (metric_to_pixel / scaling_factor )  ** 3 #new metric to pixel value because the input image was resized (without loosing aspect ratio); ^3 to get cubic-micrometer\n",
    "\n",
    "    volume = count * metric_to_pixel # cubic micrometer\n",
    "\n",
    "    # Write data rows in excel worksheet\n",
    "    row = [filename, scaling_factor,count, metric_to_pixel, volume]\n",
    "    sheet.append(row)\n",
    "\n",
    "output_file = os.path.join(out_path, 'Volume_Calculation_manualThresh.xlsx')\n",
    "workbook.save(output_file)\n",
    "\n",
    "\n",
    "\n",
    "    \n",
    "        "
   ]
  },
  {
   "cell_type": "code",
   "execution_count": null,
   "metadata": {},
   "outputs": [],
   "source": []
  }
 ],
 "metadata": {
  "kernelspec": {
   "display_name": "Python 3",
   "language": "python",
   "name": "python3"
  },
  "language_info": {
   "codemirror_mode": {
    "name": "ipython",
    "version": 3
   },
   "file_extension": ".py",
   "mimetype": "text/x-python",
   "name": "python",
   "nbconvert_exporter": "python",
   "pygments_lexer": "ipython3",
   "version": "3.10.4"
  },
  "orig_nbformat": 4
 },
 "nbformat": 4,
 "nbformat_minor": 2
}
