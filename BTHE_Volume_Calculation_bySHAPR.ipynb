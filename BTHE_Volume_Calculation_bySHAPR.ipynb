{
 "cells": [
  {
   "attachments": {},
   "cell_type": "markdown",
   "metadata": {},
   "source": [
    "# In this script I am trying to calculate the volume of the predicted shapes, with the help of code of the SHAPR-Framework. \n",
    "\n",
    "https://github.com/marrlab/SHAPR_torch/blob/master/docs/pre-post-processing/Extract%20Features%20from%203D%20Shapes.ipynb"
   ]
  },
  {
   "attachments": {},
   "cell_type": "markdown",
   "metadata": {},
   "source": [
    "The code from shapr, first normalizes the prediction data (64,64,64) which puts every pixel in relation to its highest pixel value. THe threshold_otsu method then finds an optimal threshold to the data. Every pixel below this threshold is put to zero and everything above it to one. The code then counts those ones which can then be multiplied with the metric to pixel ratio to get the volume in femtoliters respectively in cubic micrometers. \n"
   ]
  },
  {
   "cell_type": "code",
   "execution_count": null,
   "metadata": {},
   "outputs": [],
   "source": [
    "#import dependencies\n",
    "import os\n",
    "import numpy as np\n",
    "from skimage.io import imread\n",
    "from skimage.filters import threshold_otsu\n",
    "import csv"
   ]
  },
  {
   "cell_type": "code",
   "execution_count": null,
   "metadata": {},
   "outputs": [],
   "source": [
    "# set the path to the 2D segmentations (\"mask\") and the folder where the features should be saved\n",
    "test_path = \"Results\"\n",
    "out_path = \"Data_Analysis\""
   ]
  },
  {
   "attachments": {},
   "cell_type": "markdown",
   "metadata": {},
   "source": [
    "### Trying it first on a single cell prediction"
   ]
  },
  {
   "cell_type": "code",
   "execution_count": null,
   "metadata": {},
   "outputs": [],
   "source": [
    "#normalizes the data (putting every pixel in relation to the maximum pixel value of the data ndarray)\n",
    "#https://scikit-image.org/docs/dev/auto_examples/segmentation/plot_thresholding.html\n",
    "def norm_thres(data): \n",
    "    maxd = np.max(data)\n",
    "    data = data / maxd\n",
    "    data = np.nan_to_num(data)\n",
    "    if np.max(data) > 0:\n",
    "        thresh = threshold_otsu(data)\n",
    "        binary = data > thresh\n",
    "    else: \n",
    "        binary = data\n",
    "    return binary*1.0"
   ]
  },
  {
   "cell_type": "code",
   "execution_count": null,
   "metadata": {},
   "outputs": [],
   "source": [
    "#read the data\n",
    "import tifffile\n",
    "data_in = imread(\"Results/cell_frame004148_x0126_y0201_red.tif\")\n",
    "obj_auto_pred = np.nan_to_num(norm_thres(data_in))\n",
    "auto_pred_vol = np.sum(obj_auto_pred)\n",
    "tifffile.imwrite(\"Created_Images/output1.tif\", obj_auto_pred*255 ) #*255 to visualize the cell after\n",
    "\n",
    "\n",
    "\n",
    "print(auto_pred_vol) # counts all the ones in the 64,64,64 array\n",
    "\n"
   ]
  },
  {
   "attachments": {},
   "cell_type": "markdown",
   "metadata": {},
   "source": [
    "### Multipy with metric to pixel ratio"
   ]
  },
  {
   "cell_type": "code",
   "execution_count": null,
   "metadata": {},
   "outputs": [],
   "source": [
    "from PIL import Image\n",
    "desired_width, desired_height = 64, 64\n",
    "desired_aspect_ratio = desired_width / desired_height\n",
    "\n",
    "original_image = Image.open(\"Images_for_prediction/cell_frame004148_x0126_y0201_red.jpg\")\n",
    "\n",
    "current_width, current_height = original_image.size\n",
    "current_aspect_ratio = current_width / current_height\n",
    "\n",
    "if current_aspect_ratio > desired_aspect_ratio:\n",
    "    # The original image is wider than the desired aspect ratio, so the width will be the limiting factor.\n",
    "    scale_factor = desired_width / current_width\n",
    "else:\n",
    "    # The original image is taller than the desired aspect ratio, so the height will be the limiting factor.\n",
    "    scale_factor = desired_height / current_height\n",
    "\n",
    "\n",
    "metric_to_pixel = (75.5/1000) #75.5nm/px ; /1000 => micrometer/px; \n",
    "\n",
    "metric_to_pixel = (metric_to_pixel / scale_factor )  ** 3 #new metric to pixel value because the input image was resized (without loosing aspect ratio); ^3 to get cubic-micrometer\n",
    "\n",
    "volume = auto_pred_vol * metric_to_pixel # cubic micrometer\n",
    "int(volume) #in femtoliters\n"
   ]
  },
  {
   "attachments": {},
   "cell_type": "markdown",
   "metadata": {},
   "source": [
    "### Save in an excel with all the files and applying the metric to pixel value with the scaling factor from altering the images"
   ]
  },
  {
   "cell_type": "code",
   "execution_count": null,
   "metadata": {},
   "outputs": [],
   "source": [
    "import os\n",
    "from PIL import Image\n",
    "import numpy as np\n",
    "desired_width, desired_height = 64, 64\n",
    "desired_aspect_ratio = desired_width / desired_height\n",
    "\n",
    "# Set the path to the folder containing the images\n",
    "folder_path = \"Images_for_prediction\"  \n",
    "\n",
    "scale_factors = []\n",
    "\n",
    "\n",
    "# Loop over all the files in the folder\n",
    "for filename in os.listdir(folder_path):\n",
    "    if filename.endswith(\".png\") or filename.endswith(\".jpg\"):\n",
    "        # Load the original image\n",
    "        file_path = os.path.join(folder_path, filename)\n",
    "        original_image = Image.open(file_path)\n",
    "\n",
    "        current_width, current_height = original_image.size\n",
    "        current_aspect_ratio = current_width / current_height\n",
    "\n",
    "        if current_aspect_ratio > desired_aspect_ratio:\n",
    "            # The original image is wider than the desired aspect ratio, so the width will be the limiting factor.\n",
    "            scale_factor = desired_width / current_width\n",
    "            scale_factors.append(scale_factor)\n",
    "        else:\n",
    "            # The original image is taller than the desired aspect ratio, so the height will be the limiting factor.\n",
    "            scale_factor = desired_height / current_height\n",
    "            scale_factors.append(scale_factor)"
   ]
  },
  {
   "cell_type": "code",
   "execution_count": null,
   "metadata": {},
   "outputs": [],
   "source": [
    "import os\n",
    "import numpy as np\n",
    "from skimage.io import imread\n",
    "from skimage.filters import threshold_otsu\n",
    "import openpyxl\n",
    "\n",
    "#normalizes the data (putting every pixel in relation to the maximum pixel value of the data ndarray)\n",
    "#https://scikit-image.org/docs/dev/auto_examples/segmentation/plot_thresholding.html\n",
    "\n",
    "def norm_thres(data):\n",
    "    maxd = np.max(data)\n",
    "    data = data / maxd\n",
    "    data = np.nan_to_num(data)\n",
    "    if np.max(data) > 0:\n",
    "        thresh = threshold_otsu(data)\n",
    "        binary = data > thresh\n",
    "    else:\n",
    "        binary = data\n",
    "    return binary.astype(float)\n",
    "\n",
    "folder_path = \"Results\"\n",
    "out_path = \"Data_Analysis\"\n",
    "\n",
    "# Create a new workbook and get the active sheet\n",
    "workbook = openpyxl.Workbook()\n",
    "sheet = workbook.active\n",
    "sheet.column_dimensions[\"A\"].width = 100\n",
    "\n",
    "sheet[\"A1\"] = \"filename\"\n",
    "sheet[\"B1\"] = \"image_scale_factor\"\n",
    "sheet[\"C1\"] = \"count\"\n",
    "sheet[\"D1\"] = \"metric_to_pixel\"\n",
    "sheet[\"E1\"] = \"volume\"\n",
    "\n",
    "\n",
    "for index, filename in enumerate(os.listdir(folder_path)):\n",
    "    file_path = os.path.join(folder_path, filename)\n",
    "\n",
    "    #read the data\n",
    "    data_in = imread(file_path)\n",
    "    obj_auto_pred = np.nan_to_num(norm_thres(data_in)) #normalizes the data and puts every pixel above certain threshold to 1\n",
    "    auto_pred_vol = np.sum(obj_auto_pred) #counts the 1s\n",
    "    \n",
    "    #calculate in cubicmicrometers\n",
    "    metric_to_pixel = (75.5/1000) #75.5nm/px ; /1000 => micrometer/px; \n",
    "    scaling_factor = scale_factors[index] \n",
    "    metric_to_pixel = (metric_to_pixel / scaling_factor )  ** 3 #new metric to pixel value because the input image was resized (without loosing aspect ratio); ^3 to get cubic-micrometer\n",
    "\n",
    "\n",
    "    volume = auto_pred_vol * metric_to_pixel # cubic micrometer\n",
    "    # Write data rows in excel worksheet\n",
    "    row = [filename, scaling_factor, auto_pred_vol, metric_to_pixel, volume]\n",
    "    sheet.append(row)\n",
    "\n",
    "output_file = os.path.join(out_path, 'Volume_Calculation_bySHAPR.xlsx')\n",
    "workbook.save(output_file)\n",
    "\n",
    "\n",
    "\n",
    "\n",
    "\n",
    "\n",
    "\n"
   ]
  }
 ],
 "metadata": {
  "kernelspec": {
   "display_name": "Python 3",
   "language": "python",
   "name": "python3"
  },
  "language_info": {
   "codemirror_mode": {
    "name": "ipython",
    "version": 3
   },
   "file_extension": ".py",
   "mimetype": "text/x-python",
   "name": "python",
   "nbconvert_exporter": "python",
   "pygments_lexer": "ipython3",
   "version": "3.10.4"
  },
  "orig_nbformat": 4
 },
 "nbformat": 4,
 "nbformat_minor": 2
}
