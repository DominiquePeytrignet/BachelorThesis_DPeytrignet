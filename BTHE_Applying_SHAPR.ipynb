{
 "cells": [
  {
   "attachments": {},
   "cell_type": "markdown",
   "metadata": {},
   "source": [
    "# In this script the trained models from SHAPR are beeing applied on the RBC images provided by the Swiss Institute for Translational and Entrepreneurial Medicine (SITEM)"
   ]
  },
  {
   "attachments": {},
   "cell_type": "markdown",
   "metadata": {},
   "source": [
    "@article{waibel2022shapr, title={SHAPR predicts 3D cell shapes from 2D microscopic images}, author={Waibel, Dominik JE and Kiermeyer, Niklas and Atwell, Scott and Sadafi, Ario and Meier, Matthias and Marr, Carsten}, journal={Iscience}, pages={105298}, year={2022}, publisher={Elsevier} }\n",
    "\n",
    "https://www.cell.com/iscience/fulltext/S2589-0042(22)01570-X?_returnURL=https%3A%2F%2Flinkinghub.elsevier.com%2Fretrieve%2Fpii%2FS258900422201570X%3Fshowall%3Dtrue"
   ]
  },
  {
   "cell_type": "code",
   "execution_count": null,
   "metadata": {},
   "outputs": [],
   "source": [
    "# !pip3 install shapr \n",
    "# uncomment above code if shapr hasn't been installed yet"
   ]
  },
  {
   "attachments": {},
   "cell_type": "markdown",
   "metadata": {},
   "source": [
    "### Import dependencies"
   ]
  },
  {
   "cell_type": "code",
   "execution_count": null,
   "metadata": {},
   "outputs": [],
   "source": [
    "from shapr.utils import *\n",
    "from tensorflow.keras.callbacks import TensorBoard, ModelCheckpoint, EarlyStopping\n",
    "from shapr import settings\n",
    "from shapr.data_generator import *\n",
    "from shapr.model import model, define_adverserial\n",
    "import os\n",
    "import tifffile"
   ]
  },
  {
   "attachments": {},
   "cell_type": "markdown",
   "metadata": {},
   "source": [
    "### Define the paths where the folders \"image\" and \"mask\" are"
   ]
  },
  {
   "cell_type": "code",
   "execution_count": null,
   "metadata": {},
   "outputs": [],
   "source": [
    "#change according to your folder-setup\n",
    "# had to store the results on my private laptop because onedrive which is connected to my github had not enough GB\n",
    "#settings.path:  str = r\"C:\\Users\\Domin\\OneDrive\\Dokumente\\GitHub\\BachelorThesis\"\n",
    "#settings.result_path: str= r\"C:\\Users\\Domin\\OneDrive\\Dokumente\\GitHub\\BachelorThesis\\Results\"\n",
    "#settings.pretrained_weights_path: str = r\"C:\\Users\\Domin\\OneDrive\\Dokumente\\GitHub\\BachelorThesis\\logs\"\n",
    "\n",
    "settings.path:  str = r\"C:\\6.Semester\\BTHE\\Experiment_Folders\\11000_GAN1_images\"\n",
    "settings.result_path: str= r\"C:\\6.Semester\\BTHE\\Experiment_Folders\\11000_GAN1_images\\Results\"\n",
    "settings.pretrained_weights_path: str = r\"C:\\6.Semester\\BTHE\\Experiment_Folders\\11000_GAN1_images\\logs\""
   ]
  },
  {
   "cell_type": "code",
   "execution_count": null,
   "metadata": {},
   "outputs": [],
   "source": [
    "test_filenames =  os.listdir(os.path.join(settings.path, \"mask\"))\n",
    "print(test_filenames)\n",
    "print(len(test_filenames))"
   ]
  },
  {
   "attachments": {},
   "cell_type": "markdown",
   "metadata": {},
   "source": [
    "### Load pretrained_weights\n"
   ]
  },
  {
   "cell_type": "code",
   "execution_count": null,
   "metadata": {},
   "outputs": [],
   "source": [
    "PARAMS = {\"num_filters\": 10,\n",
    "      \"dropout\": 0.\n",
    "}\n",
    "\n",
    "#change the pretrained_weights here, need to change accordingly if the file is called differently\n",
    "pretrained_weightsPredictor_file = os.path.join(settings.path, \"logs\", \"pretrained_weightsPredictor_GAN\"+str(1) +\".hdf5\")\n",
    "SHAPRmodel, discriminator = model(PARAMS)\n",
    "SHAPRmodel.load_weights(pretrained_weightsPredictor_file)"
   ]
  },
  {
   "attachments": {},
   "cell_type": "markdown",
   "metadata": {},
   "source": [
    "### Create prediction"
   ]
  },
  {
   "cell_type": "code",
   "execution_count": null,
   "metadata": {},
   "outputs": [],
   "source": [
    "test_data = data_generator_test_set(settings.path, test_filenames)\n",
    "\n",
    "predict = SHAPRmodel.predict(test_data, steps = len(test_filenames))\n",
    "print(\"finished\")"
   ]
  },
  {
   "attachments": {},
   "cell_type": "markdown",
   "metadata": {},
   "source": [
    "### Save as tif-files"
   ]
  },
  {
   "cell_type": "code",
   "execution_count": null,
   "metadata": {},
   "outputs": [],
   "source": [
    "for i in range(len(predict)):\n",
    "    result = predict[i] \n",
    "\n",
    "    result = np.squeeze(result)\n",
    "    tifffile.imwrite(\"Results/\"+str(test_filenames[i][:-3]) +\"tif\", result)"
   ]
  },
  {
   "attachments": {},
   "cell_type": "markdown",
   "metadata": {},
   "source": [
    "### Visualizing volumina example"
   ]
  },
  {
   "cell_type": "code",
   "execution_count": null,
   "metadata": {},
   "outputs": [],
   "source": [
    "# https://github.com/marrlab/SHAPR_torch/blob/master/shapr/scripts/tif_to_x3d.py\n",
    "# in this script the volumina isn't exported as x3d file because trying it generated error for some reasons\n",
    "from vedo import Plotter\n",
    "from vedo import Volume\n",
    "from shapr.utils import import_image\n",
    "from matplotlib import pyplot as plt1\n",
    "\n",
    "image_data = import_image(\"Results/cell_frame004185_x0513_y0217_red.tif\").squeeze()\n",
    "\n",
    "def to_x3d(image_data):\n",
    "    plt = Plotter(size=(600, 600), bg='white', offscreen=False, interactive=True)\n",
    "    volume = Volume(image_data).isosurface()\n",
    "\n",
    "    # Add some nice colours based on the y coordinate. This is just for\n",
    "    # visualisation purposes.\n",
    "    coords = volume.points()\n",
    "    volume.cmap('Spectral', coords[:, 1])\n",
    "\n",
    "    plt.show(volume, axes=1, viewup= \"z\", interactive = True)\n",
    "\n",
    "   \n",
    "\n",
    "to_x3d(image_data)\n",
    "\n",
    "\n"
   ]
  },
  {
   "attachments": {},
   "cell_type": "markdown",
   "metadata": {},
   "source": [
    "With the python script \"BTHE_3D_Visualization\" it is possible to have a 360° video of a predicted cell in an interactive Window"
   ]
  },
  {
   "cell_type": "code",
   "execution_count": null,
   "metadata": {},
   "outputs": [],
   "source": []
  }
 ],
 "metadata": {
  "kernelspec": {
   "display_name": "Python 3",
   "language": "python",
   "name": "python3"
  },
  "language_info": {
   "codemirror_mode": {
    "name": "ipython",
    "version": 3
   },
   "file_extension": ".py",
   "mimetype": "text/x-python",
   "name": "python",
   "nbconvert_exporter": "python",
   "pygments_lexer": "ipython3",
   "version": "3.10.4"
  },
  "orig_nbformat": 4
 },
 "nbformat": 4,
 "nbformat_minor": 2
}
